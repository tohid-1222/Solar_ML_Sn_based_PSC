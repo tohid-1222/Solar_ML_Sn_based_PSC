{
 "cells": [
  {
   "cell_type": "code",
   "execution_count": 1,
   "id": "e137e7c1",
   "metadata": {},
   "outputs": [],
   "source": [
    "import numpy as np\n",
    "import pandas as pd\n",
    "import os\n",
    "import matplotlib.pyplot as plt\n",
    "import seaborn as sns"
   ]
  },
  {
   "cell_type": "code",
   "execution_count": 2,
   "id": "80d88514",
   "metadata": {},
   "outputs": [],
   "source": [
    "pwd = os.getcwd() # current working directory"
   ]
  },
  {
   "cell_type": "code",
   "execution_count": 3,
   "id": "9383944b",
   "metadata": {},
   "outputs": [
    {
     "data": {
      "text/plain": [
       "(454, 36)"
      ]
     },
     "execution_count": 3,
     "metadata": {},
     "output_type": "execute_result"
    }
   ],
   "source": [
    "df = pd.read_csv(pwd+\"/Sn_based/Sn.csv\") # Loading Sn based dataset\n",
    "df.shape # Shape of the dataset"
   ]
  },
  {
   "cell_type": "code",
   "execution_count": 4,
   "id": "089d703f",
   "metadata": {},
   "outputs": [
    {
     "data": {
      "text/html": [
       "<div>\n",
       "<style scoped>\n",
       "    .dataframe tbody tr th:only-of-type {\n",
       "        vertical-align: middle;\n",
       "    }\n",
       "\n",
       "    .dataframe tbody tr th {\n",
       "        vertical-align: top;\n",
       "    }\n",
       "\n",
       "    .dataframe thead th {\n",
       "        text-align: right;\n",
       "    }\n",
       "</style>\n",
       "<table border=\"1\" class=\"dataframe\">\n",
       "  <thead>\n",
       "    <tr style=\"text-align: right;\">\n",
       "      <th></th>\n",
       "      <th>Ref_DOI_number</th>\n",
       "      <th>Cell_architecture</th>\n",
       "      <th>Cell_flexible</th>\n",
       "      <th>Cell_semitransparent</th>\n",
       "      <th>Substrate_stack_sequence</th>\n",
       "      <th>ETL_stack_sequence</th>\n",
       "      <th>ETL_thickness</th>\n",
       "      <th>ETL_deposition_procedure</th>\n",
       "      <th>Perovskite_dimension_2D</th>\n",
       "      <th>Perovskite_dimension_2D3D_mixture</th>\n",
       "      <th>...</th>\n",
       "      <th>HTL_stack_sequence</th>\n",
       "      <th>HTL_thickness_list</th>\n",
       "      <th>HTL_deposition_procedure</th>\n",
       "      <th>Backcontact_stack_sequence</th>\n",
       "      <th>Backcontact_thickness_list</th>\n",
       "      <th>Backcontact_deposition_procedure</th>\n",
       "      <th>JV_default_Voc</th>\n",
       "      <th>JV_default_Jsc</th>\n",
       "      <th>JV_default_FF</th>\n",
       "      <th>JV_default_PCE</th>\n",
       "    </tr>\n",
       "  </thead>\n",
       "  <tbody>\n",
       "    <tr>\n",
       "      <th>0</th>\n",
       "      <td>10.1002/adfm.201807696</td>\n",
       "      <td>pin</td>\n",
       "      <td>False</td>\n",
       "      <td>False</td>\n",
       "      <td>SLG | ITO</td>\n",
       "      <td>PCBM-60 | BCP</td>\n",
       "      <td>142.0</td>\n",
       "      <td>Spin-coating | Evaporation</td>\n",
       "      <td>True</td>\n",
       "      <td>False</td>\n",
       "      <td>...</td>\n",
       "      <td>PEDOT:PSS</td>\n",
       "      <td>114.0</td>\n",
       "      <td>Spin-coating</td>\n",
       "      <td>Ag</td>\n",
       "      <td>200.0</td>\n",
       "      <td>Evaporation</td>\n",
       "      <td>0.58</td>\n",
       "      <td>21.2</td>\n",
       "      <td>0.633</td>\n",
       "      <td>7.78</td>\n",
       "    </tr>\n",
       "    <tr>\n",
       "      <th>1</th>\n",
       "      <td>10.1002/adfm.201807696</td>\n",
       "      <td>pin</td>\n",
       "      <td>False</td>\n",
       "      <td>False</td>\n",
       "      <td>SLG | ITO</td>\n",
       "      <td>PCBM-60 | BCP</td>\n",
       "      <td>142.0</td>\n",
       "      <td>Spin-coating | Evaporation</td>\n",
       "      <td>True</td>\n",
       "      <td>False</td>\n",
       "      <td>...</td>\n",
       "      <td>PEDOT:PSS</td>\n",
       "      <td>114.0</td>\n",
       "      <td>Spin-coating</td>\n",
       "      <td>Ag</td>\n",
       "      <td>200.0</td>\n",
       "      <td>Evaporation</td>\n",
       "      <td>0.60</td>\n",
       "      <td>20.5</td>\n",
       "      <td>0.650</td>\n",
       "      <td>7.95</td>\n",
       "    </tr>\n",
       "    <tr>\n",
       "      <th>2</th>\n",
       "      <td>10.1002/adfm.201807696</td>\n",
       "      <td>pin</td>\n",
       "      <td>False</td>\n",
       "      <td>False</td>\n",
       "      <td>SLG | ITO</td>\n",
       "      <td>PCBM-60 | BCP</td>\n",
       "      <td>142.0</td>\n",
       "      <td>Spin-coating | Evaporation</td>\n",
       "      <td>True</td>\n",
       "      <td>False</td>\n",
       "      <td>...</td>\n",
       "      <td>PEDOT:PSS</td>\n",
       "      <td>114.0</td>\n",
       "      <td>Spin-coating</td>\n",
       "      <td>Ag</td>\n",
       "      <td>200.0</td>\n",
       "      <td>Evaporation</td>\n",
       "      <td>0.61</td>\n",
       "      <td>21.0</td>\n",
       "      <td>0.670</td>\n",
       "      <td>8.71</td>\n",
       "    </tr>\n",
       "    <tr>\n",
       "      <th>3</th>\n",
       "      <td>10.1002/adfm.201807696</td>\n",
       "      <td>pin</td>\n",
       "      <td>False</td>\n",
       "      <td>False</td>\n",
       "      <td>SLG | ITO</td>\n",
       "      <td>PCBM-60 | BCP</td>\n",
       "      <td>142.0</td>\n",
       "      <td>Spin-coating | Evaporation</td>\n",
       "      <td>True</td>\n",
       "      <td>False</td>\n",
       "      <td>...</td>\n",
       "      <td>PEDOT:PSS</td>\n",
       "      <td>114.0</td>\n",
       "      <td>Spin-coating</td>\n",
       "      <td>Ag</td>\n",
       "      <td>200.0</td>\n",
       "      <td>Evaporation</td>\n",
       "      <td>0.52</td>\n",
       "      <td>15.9</td>\n",
       "      <td>0.570</td>\n",
       "      <td>4.33</td>\n",
       "    </tr>\n",
       "    <tr>\n",
       "      <th>4</th>\n",
       "      <td>10.1002/adfm.201807696</td>\n",
       "      <td>pin</td>\n",
       "      <td>False</td>\n",
       "      <td>False</td>\n",
       "      <td>SLG | ITO</td>\n",
       "      <td>PCBM-60 | BCP</td>\n",
       "      <td>142.0</td>\n",
       "      <td>Spin-coating | Evaporation</td>\n",
       "      <td>True</td>\n",
       "      <td>False</td>\n",
       "      <td>...</td>\n",
       "      <td>PEDOT:PSS</td>\n",
       "      <td>114.0</td>\n",
       "      <td>Spin-coating</td>\n",
       "      <td>Ag</td>\n",
       "      <td>200.0</td>\n",
       "      <td>Evaporation</td>\n",
       "      <td>0.55</td>\n",
       "      <td>16.4</td>\n",
       "      <td>0.580</td>\n",
       "      <td>5.24</td>\n",
       "    </tr>\n",
       "  </tbody>\n",
       "</table>\n",
       "<p>5 rows × 36 columns</p>\n",
       "</div>"
      ],
      "text/plain": [
       "           Ref_DOI_number Cell_architecture  Cell_flexible  \\\n",
       "0  10.1002/adfm.201807696               pin          False   \n",
       "1  10.1002/adfm.201807696               pin          False   \n",
       "2  10.1002/adfm.201807696               pin          False   \n",
       "3  10.1002/adfm.201807696               pin          False   \n",
       "4  10.1002/adfm.201807696               pin          False   \n",
       "\n",
       "   Cell_semitransparent Substrate_stack_sequence ETL_stack_sequence  \\\n",
       "0                 False                SLG | ITO      PCBM-60 | BCP   \n",
       "1                 False                SLG | ITO      PCBM-60 | BCP   \n",
       "2                 False                SLG | ITO      PCBM-60 | BCP   \n",
       "3                 False                SLG | ITO      PCBM-60 | BCP   \n",
       "4                 False                SLG | ITO      PCBM-60 | BCP   \n",
       "\n",
       "   ETL_thickness    ETL_deposition_procedure  Perovskite_dimension_2D  \\\n",
       "0          142.0  Spin-coating | Evaporation                     True   \n",
       "1          142.0  Spin-coating | Evaporation                     True   \n",
       "2          142.0  Spin-coating | Evaporation                     True   \n",
       "3          142.0  Spin-coating | Evaporation                     True   \n",
       "4          142.0  Spin-coating | Evaporation                     True   \n",
       "\n",
       "   Perovskite_dimension_2D3D_mixture  ...  HTL_stack_sequence  \\\n",
       "0                              False  ...           PEDOT:PSS   \n",
       "1                              False  ...           PEDOT:PSS   \n",
       "2                              False  ...           PEDOT:PSS   \n",
       "3                              False  ...           PEDOT:PSS   \n",
       "4                              False  ...           PEDOT:PSS   \n",
       "\n",
       "   HTL_thickness_list  HTL_deposition_procedure Backcontact_stack_sequence  \\\n",
       "0               114.0              Spin-coating                         Ag   \n",
       "1               114.0              Spin-coating                         Ag   \n",
       "2               114.0              Spin-coating                         Ag   \n",
       "3               114.0              Spin-coating                         Ag   \n",
       "4               114.0              Spin-coating                         Ag   \n",
       "\n",
       "  Backcontact_thickness_list Backcontact_deposition_procedure  JV_default_Voc  \\\n",
       "0                      200.0                      Evaporation            0.58   \n",
       "1                      200.0                      Evaporation            0.60   \n",
       "2                      200.0                      Evaporation            0.61   \n",
       "3                      200.0                      Evaporation            0.52   \n",
       "4                      200.0                      Evaporation            0.55   \n",
       "\n",
       "   JV_default_Jsc  JV_default_FF  JV_default_PCE  \n",
       "0            21.2          0.633            7.78  \n",
       "1            20.5          0.650            7.95  \n",
       "2            21.0          0.670            8.71  \n",
       "3            15.9          0.570            4.33  \n",
       "4            16.4          0.580            5.24  \n",
       "\n",
       "[5 rows x 36 columns]"
      ]
     },
     "execution_count": 4,
     "metadata": {},
     "output_type": "execute_result"
    }
   ],
   "source": [
    "df.head()"
   ]
  },
  {
   "cell_type": "code",
   "execution_count": 5,
   "id": "38dbeda9",
   "metadata": {},
   "outputs": [],
   "source": [
    "# List of feature columns\n",
    "feature_cols = [   'Cell_architecture', 'Cell_flexible',\n",
    "                   'Cell_semitransparent', 'Substrate_stack_sequence',\n",
    "                   'ETL_stack_sequence', 'ETL_thickness', 'ETL_deposition_procedure',\n",
    "                   'Perovskite_dimension_2D', 'Perovskite_dimension_2D3D_mixture',\n",
    "                   'Perovskite_dimension_3D',\n",
    "                   'Perovskite_dimension_3D_with_2D_capping_layer',\n",
    "                   'Perovskite_composition_perovskite_ABC3_structure',\n",
    "                   'Perovskite_composition_long_form',\n",
    "                   'Perovskite_thickness', 'Perovskite_composition_inorganic',\n",
    "                   'Perovskite_band_gap', 'Perovskite_band_gap_graded',\n",
    "                   'Perovskite_deposition_procedure', 'Perovskite_deposition_solvents',\n",
    "                   'Perovskite_deposition_quenching_induced_crystallisation',\n",
    "                   'Perovskite_deposition_thermal_annealing_temperature',\n",
    "                   'Perovskite_deposition_thermal_annealing_time',\n",
    "                   'Perovskite_deposition_solvent_annealing', 'HTL_stack_sequence',\n",
    "                   'HTL_thickness_list', 'HTL_deposition_procedure',\n",
    "                   'Backcontact_stack_sequence', 'Backcontact_thickness_list', 'Backcontact_deposition_procedure']"
   ]
  },
  {
   "cell_type": "code",
   "execution_count": 6,
   "id": "92f66cb8",
   "metadata": {},
   "outputs": [
    {
     "data": {
      "text/plain": [
       "29"
      ]
     },
     "execution_count": 6,
     "metadata": {},
     "output_type": "execute_result"
    }
   ],
   "source": [
    "len(feature_cols) # Number of features"
   ]
  },
  {
   "cell_type": "code",
   "execution_count": 7,
   "id": "bc73d953",
   "metadata": {},
   "outputs": [
    {
     "name": "stdout",
     "output_type": "stream",
     "text": [
      "Cell_architecture unique labels: 2\n",
      "Cell_flexible unique labels: 1\n",
      "Cell_semitransparent unique labels: 1\n",
      "Substrate_stack_sequence unique labels: 2\n",
      "ETL_stack_sequence unique labels: 22\n",
      "ETL_thickness unique labels: 87\n",
      "ETL_deposition_procedure unique labels: 11\n",
      "Perovskite_dimension_2D unique labels: 2\n",
      "Perovskite_dimension_2D3D_mixture unique labels: 2\n",
      "Perovskite_dimension_3D unique labels: 2\n",
      "Perovskite_dimension_3D_with_2D_capping_layer unique labels: 1\n",
      "Perovskite_composition_perovskite_ABC3_structure unique labels: 2\n",
      "Perovskite_composition_long_form unique labels: 82\n",
      "Perovskite_thickness unique labels: 76\n",
      "Perovskite_composition_inorganic unique labels: 2\n",
      "Perovskite_band_gap unique labels: 58\n",
      "Perovskite_band_gap_graded unique labels: 1\n",
      "Perovskite_deposition_procedure unique labels: 3\n",
      "Perovskite_deposition_solvents unique labels: 12\n",
      "Perovskite_deposition_quenching_induced_crystallisation unique labels: 2\n",
      "Perovskite_deposition_thermal_annealing_temperature unique labels: 25\n",
      "Perovskite_deposition_thermal_annealing_time unique labels: 26\n",
      "Perovskite_deposition_solvent_annealing unique labels: 2\n",
      "HTL_stack_sequence unique labels: 24\n",
      "HTL_thickness_list unique labels: 94\n",
      "HTL_deposition_procedure unique labels: 5\n",
      "Backcontact_stack_sequence unique labels: 8\n",
      "Backcontact_thickness_list unique labels: 24\n",
      "Backcontact_deposition_procedure unique labels: 5\n"
     ]
    }
   ],
   "source": [
    "# No. of unique labels on each feature column\n",
    "for col in feature_cols:\n",
    "    print(col+\" unique labels: \"+str(len(df[col].unique())))"
   ]
  },
  {
   "cell_type": "code",
   "execution_count": 8,
   "id": "49f3b08e",
   "metadata": {},
   "outputs": [],
   "source": [
    "# Screening data points with PCE greater than the median PCE for each perovskite\n",
    "perov_pce_dict = {}\n",
    "unique_perovs = list(df['Perovskite_composition_long_form'].unique()) # getting unique perovskite long form entries\n",
    "filtered_data = []\n",
    "\n",
    "for p in unique_perovs:\n",
    "    sub_df = df[df['Perovskite_composition_long_form']==p] # Cluster all entries for particular perovskite\n",
    "    med = sub_df['JV_default_PCE'].median() # Find out median \n",
    "    perov_pce_dict[p] = med # store the median in dictionary\n",
    "    \n",
    "    filtered_df = sub_df[sub_df['JV_default_PCE'] >= med] # Filter entries greater than the median value\n",
    "    filtered_data.append(filtered_df) # Store the filter data in dictionary\n",
    "\n",
    "filtered_df = pd.concat(filtered_data) # converting filtered data into dataframe\n",
    "filtered_df = filtered_df.reset_index(drop=True) # reseting the index"
   ]
  },
  {
   "cell_type": "code",
   "execution_count": 9,
   "id": "cdff4faa",
   "metadata": {},
   "outputs": [
    {
     "data": {
      "text/plain": [
       "{'(5-AVA)2FA4Sn5I16': 5.59,\n",
       " '(PEA)1.4BA0.6FA3Sn4I13': 5.07,\n",
       " '(PEA)0.6BA1.4FA3Sn4I13': 4.28,\n",
       " '(PEA)BAFA3Sn4I13': 8.82,\n",
       " '(PEA)0.1FA0.15MA0.75SnBr0.24I2.76': 3.9050000000000002,\n",
       " '(PEA)0.1FA0.15MA0.75SnI3': 3.76,\n",
       " '(PEA)2FA8Sn9I28': 5.5,\n",
       " '(PEA)0.1FA0.9SnI3': 1.625,\n",
       " '(PEA)0.15FA0.85SnI3': 7.4,\n",
       " '(PEA)2FA3Sn4I13': 6.42,\n",
       " '(PEA)0.1MA0.9SnI3': 3.865,\n",
       " 'BA0.15FA0.85SnI3': 5.2,\n",
       " 'BA2FA3Sn4I13': 4.73,\n",
       " 'BA2MA23Sn4I13': 2.08,\n",
       " 'BA2MA3Sn4I13': 2.235,\n",
       " 'BA2MA2Sn3I10': 1.49,\n",
       " 'Cs0.05FA0.79MA0.16SnBr0.5I2.5': 1.3,\n",
       " 'Cs0.2FA0.66MA0.14SnBr0.5I2.5': 0.21,\n",
       " 'Cs0.1FA0.75MA0.15SnBr0.5I2.5': 2.43,\n",
       " 'Cs0.2FA0.8SnI3': 1.38,\n",
       " 'Cs0.05FA0.95SnI3': 5.74,\n",
       " 'Cs0.02FA0.98SnI3': 5.41,\n",
       " 'CsFASnI3': 3.73,\n",
       " 'Cs0.1FA0.9SnI3': 4.76,\n",
       " 'Cs0.08FA0.92SnI3': 6.0,\n",
       " 'Cs0.15FA0.85SnI3': 3.7,\n",
       " 'Cs0.1MA0.9SnI3': 0.33,\n",
       " 'CsSnBr3': 2.17,\n",
       " 'CsSnBr0.3I2.7': 0.0,\n",
       " 'CsSnBr1.5I1.5': 0.13,\n",
       " 'CsSnBr2.7I0.3': 0.12,\n",
       " 'CsSnBrI2': 1.67,\n",
       " 'CsSnBr2I': 1.395,\n",
       " 'CsSnI3': 1.615,\n",
       " 'DA2FA3Sn4I13': 2.51,\n",
       " 'EDA0.01FA0.99SnI3': 8.73,\n",
       " 'FA0.8GU0.2SnI3': 8.4,\n",
       " 'FA0.95GU0.05SnI3': 7.4,\n",
       " 'FA0.9GU0.1SnI3': 7.4,\n",
       " 'FA0.85GU0.15SnI3': 7.5,\n",
       " 'FA0.75GU0.25SnI3': 7.8,\n",
       " 'FA0.7GU0.3SnI3': 7.5,\n",
       " 'FA0.75MA0.25Ge0.05Sn0.95I3': 6.19,\n",
       " 'FA0.75MA0.25Ge0.1Sn0.9I3': 2.04,\n",
       " 'FA0.75MA0.25Ge0.2Sn0.8I3': 0.8,\n",
       " 'FA0.25MA0.75SnI3': 5.94,\n",
       " 'FA0.5MA0.5SnI3': 4.07,\n",
       " 'FA0.6MA0.4Sn0.6I3': 16.335,\n",
       " 'FA0.75MA0.25SnI3': 6.5,\n",
       " 'FA0.75MA0.25Sn1.0I3': 1.56,\n",
       " 'FA3OA2Sn4I13': 3.03,\n",
       " 'FA0.10PN0.90SnI3': 4.73,\n",
       " 'FA0.15PN0.85SnI3': 4.11,\n",
       " 'FA0.2PN0.8SnI3': 3.79,\n",
       " 'FA0.05PN0.95SnI3': 3.7,\n",
       " 'FASnBr3': 2.56,\n",
       " 'FASnBrI2': 2.895,\n",
       " 'FASnBr0.75I2.25': 4.575,\n",
       " 'FASnBr0.5I2.5': 3.75,\n",
       " 'FASnBr0.24I2.76': 3.3,\n",
       " 'FASnI3': 5.1850000000000005,\n",
       " 'FA0.75Sn0.25I3': 5.37,\n",
       " 'FASn1.0I3': 3.76,\n",
       " 'FA0.90TN0.10SnI3': 4.43,\n",
       " 'FA0.8TN0.2SnI3': 2.06,\n",
       " 'FA0.95TN0.05SnI3': 2.82,\n",
       " 'FA0.85TN0.15SnI3': 4.05,\n",
       " 'HA0.1MA0.9SnI3': 0.13,\n",
       " 'HA0.3MA0.7SnI3': 0.8,\n",
       " 'HA0.2MA0.8SnI3': 2.2,\n",
       " 'HA0.4MA0.6SnI3': 0.3,\n",
       " 'MASnBr3': 3.29,\n",
       " 'MASnBr1.2I1.8': 0.07,\n",
       " 'MASnBr2I': 2.06,\n",
       " 'MASnBr0.42I2.58': 1.66,\n",
       " 'MASnBrI2': 5.48,\n",
       " 'MASnBr1.5I1.5': 2.61,\n",
       " 'MASnBr2.64I0.36': 3.03,\n",
       " 'MASnCl3': 3.81,\n",
       " 'MASnF0.4I2.6': 1.74,\n",
       " 'MASnI3': 2.38,\n",
       " 'MA0.75Sn0.25I3': 14.35}"
      ]
     },
     "execution_count": 9,
     "metadata": {},
     "output_type": "execute_result"
    }
   ],
   "source": [
    "perov_pce_dict # Dictionary containing the median for each unique perovskite"
   ]
  },
  {
   "cell_type": "code",
   "execution_count": 10,
   "id": "e7b3997a",
   "metadata": {},
   "outputs": [
    {
     "data": {
      "text/plain": [
       "(259, 36)"
      ]
     },
     "execution_count": 10,
     "metadata": {},
     "output_type": "execute_result"
    }
   ],
   "source": [
    "filtered_df.shape # shape of filtered dataframe"
   ]
  },
  {
   "cell_type": "code",
   "execution_count": 11,
   "id": "494d3282",
   "metadata": {},
   "outputs": [
    {
     "data": {
      "text/html": [
       "<div>\n",
       "<style scoped>\n",
       "    .dataframe tbody tr th:only-of-type {\n",
       "        vertical-align: middle;\n",
       "    }\n",
       "\n",
       "    .dataframe tbody tr th {\n",
       "        vertical-align: top;\n",
       "    }\n",
       "\n",
       "    .dataframe thead th {\n",
       "        text-align: right;\n",
       "    }\n",
       "</style>\n",
       "<table border=\"1\" class=\"dataframe\">\n",
       "  <thead>\n",
       "    <tr style=\"text-align: right;\">\n",
       "      <th></th>\n",
       "      <th>Ref_DOI_number</th>\n",
       "      <th>Cell_architecture</th>\n",
       "      <th>Cell_flexible</th>\n",
       "      <th>Cell_semitransparent</th>\n",
       "      <th>Substrate_stack_sequence</th>\n",
       "      <th>ETL_stack_sequence</th>\n",
       "      <th>ETL_thickness</th>\n",
       "      <th>ETL_deposition_procedure</th>\n",
       "      <th>Perovskite_dimension_2D</th>\n",
       "      <th>Perovskite_dimension_2D3D_mixture</th>\n",
       "      <th>...</th>\n",
       "      <th>HTL_stack_sequence</th>\n",
       "      <th>HTL_thickness_list</th>\n",
       "      <th>HTL_deposition_procedure</th>\n",
       "      <th>Backcontact_stack_sequence</th>\n",
       "      <th>Backcontact_thickness_list</th>\n",
       "      <th>Backcontact_deposition_procedure</th>\n",
       "      <th>JV_default_Voc</th>\n",
       "      <th>JV_default_Jsc</th>\n",
       "      <th>JV_default_FF</th>\n",
       "      <th>JV_default_PCE</th>\n",
       "    </tr>\n",
       "  </thead>\n",
       "  <tbody>\n",
       "    <tr>\n",
       "      <th>0</th>\n",
       "      <td>10.1002/adfm.201807696</td>\n",
       "      <td>pin</td>\n",
       "      <td>False</td>\n",
       "      <td>False</td>\n",
       "      <td>SLG | ITO</td>\n",
       "      <td>PCBM-60 | BCP</td>\n",
       "      <td>142.0</td>\n",
       "      <td>Spin-coating | Evaporation</td>\n",
       "      <td>True</td>\n",
       "      <td>False</td>\n",
       "      <td>...</td>\n",
       "      <td>PEDOT:PSS</td>\n",
       "      <td>114.0</td>\n",
       "      <td>Spin-coating</td>\n",
       "      <td>Ag</td>\n",
       "      <td>200.0</td>\n",
       "      <td>Evaporation</td>\n",
       "      <td>0.58</td>\n",
       "      <td>21.2</td>\n",
       "      <td>0.633</td>\n",
       "      <td>7.78</td>\n",
       "    </tr>\n",
       "    <tr>\n",
       "      <th>1</th>\n",
       "      <td>10.1002/adfm.201807696</td>\n",
       "      <td>pin</td>\n",
       "      <td>False</td>\n",
       "      <td>False</td>\n",
       "      <td>SLG | ITO</td>\n",
       "      <td>PCBM-60 | BCP</td>\n",
       "      <td>142.0</td>\n",
       "      <td>Spin-coating | Evaporation</td>\n",
       "      <td>True</td>\n",
       "      <td>False</td>\n",
       "      <td>...</td>\n",
       "      <td>PEDOT:PSS</td>\n",
       "      <td>114.0</td>\n",
       "      <td>Spin-coating</td>\n",
       "      <td>Ag</td>\n",
       "      <td>200.0</td>\n",
       "      <td>Evaporation</td>\n",
       "      <td>0.60</td>\n",
       "      <td>20.5</td>\n",
       "      <td>0.650</td>\n",
       "      <td>7.95</td>\n",
       "    </tr>\n",
       "    <tr>\n",
       "      <th>2</th>\n",
       "      <td>10.1002/adfm.201807696</td>\n",
       "      <td>pin</td>\n",
       "      <td>False</td>\n",
       "      <td>False</td>\n",
       "      <td>SLG | ITO</td>\n",
       "      <td>PCBM-60 | BCP</td>\n",
       "      <td>142.0</td>\n",
       "      <td>Spin-coating | Evaporation</td>\n",
       "      <td>True</td>\n",
       "      <td>False</td>\n",
       "      <td>...</td>\n",
       "      <td>PEDOT:PSS</td>\n",
       "      <td>114.0</td>\n",
       "      <td>Spin-coating</td>\n",
       "      <td>Ag</td>\n",
       "      <td>200.0</td>\n",
       "      <td>Evaporation</td>\n",
       "      <td>0.61</td>\n",
       "      <td>21.0</td>\n",
       "      <td>0.670</td>\n",
       "      <td>8.71</td>\n",
       "    </tr>\n",
       "    <tr>\n",
       "      <th>3</th>\n",
       "      <td>10.1002/adfm.201807696</td>\n",
       "      <td>pin</td>\n",
       "      <td>False</td>\n",
       "      <td>False</td>\n",
       "      <td>SLG | ITO</td>\n",
       "      <td>PCBM-60 | BCP</td>\n",
       "      <td>142.0</td>\n",
       "      <td>Spin-coating | Evaporation</td>\n",
       "      <td>True</td>\n",
       "      <td>False</td>\n",
       "      <td>...</td>\n",
       "      <td>PEDOT:PSS</td>\n",
       "      <td>114.0</td>\n",
       "      <td>Spin-coating</td>\n",
       "      <td>Ag</td>\n",
       "      <td>200.0</td>\n",
       "      <td>Evaporation</td>\n",
       "      <td>0.54</td>\n",
       "      <td>20.3</td>\n",
       "      <td>0.630</td>\n",
       "      <td>5.94</td>\n",
       "    </tr>\n",
       "    <tr>\n",
       "      <th>4</th>\n",
       "      <td>10.1021/acsenergylett.9b00954</td>\n",
       "      <td>pin</td>\n",
       "      <td>False</td>\n",
       "      <td>False</td>\n",
       "      <td>SLG | ITO</td>\n",
       "      <td>C60 | LiF</td>\n",
       "      <td>31.0</td>\n",
       "      <td>Evaporation | Evaporation</td>\n",
       "      <td>True</td>\n",
       "      <td>False</td>\n",
       "      <td>...</td>\n",
       "      <td>PEDOT:PSS</td>\n",
       "      <td>38.0</td>\n",
       "      <td>Spin-coating</td>\n",
       "      <td>Al</td>\n",
       "      <td>100.0</td>\n",
       "      <td>Evaporation</td>\n",
       "      <td>0.56</td>\n",
       "      <td>18.3</td>\n",
       "      <td>0.493</td>\n",
       "      <td>5.07</td>\n",
       "    </tr>\n",
       "  </tbody>\n",
       "</table>\n",
       "<p>5 rows × 36 columns</p>\n",
       "</div>"
      ],
      "text/plain": [
       "                  Ref_DOI_number Cell_architecture  Cell_flexible  \\\n",
       "0         10.1002/adfm.201807696               pin          False   \n",
       "1         10.1002/adfm.201807696               pin          False   \n",
       "2         10.1002/adfm.201807696               pin          False   \n",
       "3         10.1002/adfm.201807696               pin          False   \n",
       "4  10.1021/acsenergylett.9b00954               pin          False   \n",
       "\n",
       "   Cell_semitransparent Substrate_stack_sequence ETL_stack_sequence  \\\n",
       "0                 False                SLG | ITO      PCBM-60 | BCP   \n",
       "1                 False                SLG | ITO      PCBM-60 | BCP   \n",
       "2                 False                SLG | ITO      PCBM-60 | BCP   \n",
       "3                 False                SLG | ITO      PCBM-60 | BCP   \n",
       "4                 False                SLG | ITO          C60 | LiF   \n",
       "\n",
       "   ETL_thickness    ETL_deposition_procedure  Perovskite_dimension_2D  \\\n",
       "0          142.0  Spin-coating | Evaporation                     True   \n",
       "1          142.0  Spin-coating | Evaporation                     True   \n",
       "2          142.0  Spin-coating | Evaporation                     True   \n",
       "3          142.0  Spin-coating | Evaporation                     True   \n",
       "4           31.0   Evaporation | Evaporation                     True   \n",
       "\n",
       "   Perovskite_dimension_2D3D_mixture  ...  HTL_stack_sequence  \\\n",
       "0                              False  ...           PEDOT:PSS   \n",
       "1                              False  ...           PEDOT:PSS   \n",
       "2                              False  ...           PEDOT:PSS   \n",
       "3                              False  ...           PEDOT:PSS   \n",
       "4                              False  ...           PEDOT:PSS   \n",
       "\n",
       "   HTL_thickness_list  HTL_deposition_procedure Backcontact_stack_sequence  \\\n",
       "0               114.0              Spin-coating                         Ag   \n",
       "1               114.0              Spin-coating                         Ag   \n",
       "2               114.0              Spin-coating                         Ag   \n",
       "3               114.0              Spin-coating                         Ag   \n",
       "4                38.0              Spin-coating                         Al   \n",
       "\n",
       "  Backcontact_thickness_list Backcontact_deposition_procedure  JV_default_Voc  \\\n",
       "0                      200.0                      Evaporation            0.58   \n",
       "1                      200.0                      Evaporation            0.60   \n",
       "2                      200.0                      Evaporation            0.61   \n",
       "3                      200.0                      Evaporation            0.54   \n",
       "4                      100.0                      Evaporation            0.56   \n",
       "\n",
       "   JV_default_Jsc  JV_default_FF  JV_default_PCE  \n",
       "0            21.2          0.633            7.78  \n",
       "1            20.5          0.650            7.95  \n",
       "2            21.0          0.670            8.71  \n",
       "3            20.3          0.630            5.94  \n",
       "4            18.3          0.493            5.07  \n",
       "\n",
       "[5 rows x 36 columns]"
      ]
     },
     "execution_count": 11,
     "metadata": {},
     "output_type": "execute_result"
    }
   ],
   "source": [
    "filtered_df.head()"
   ]
  },
  {
   "cell_type": "code",
   "execution_count": 12,
   "id": "7c0c7a75",
   "metadata": {},
   "outputs": [
    {
     "name": "stdout",
     "output_type": "stream",
     "text": [
      "Cell_architecture unique labels: 2\n",
      "Cell_flexible unique labels: 1\n",
      "Cell_semitransparent unique labels: 1\n",
      "Substrate_stack_sequence unique labels: 2\n",
      "ETL_stack_sequence unique labels: 19\n",
      "ETL_thickness unique labels: 65\n",
      "ETL_deposition_procedure unique labels: 10\n",
      "Perovskite_dimension_2D unique labels: 2\n",
      "Perovskite_dimension_2D3D_mixture unique labels: 2\n",
      "Perovskite_dimension_3D unique labels: 2\n",
      "Perovskite_dimension_3D_with_2D_capping_layer unique labels: 1\n",
      "Perovskite_composition_perovskite_ABC3_structure unique labels: 2\n",
      "Perovskite_composition_long_form unique labels: 82\n",
      "Perovskite_thickness unique labels: 56\n",
      "Perovskite_composition_inorganic unique labels: 2\n",
      "Perovskite_band_gap unique labels: 45\n",
      "Perovskite_band_gap_graded unique labels: 1\n",
      "Perovskite_deposition_procedure unique labels: 3\n",
      "Perovskite_deposition_solvents unique labels: 11\n",
      "Perovskite_deposition_quenching_induced_crystallisation unique labels: 2\n",
      "Perovskite_deposition_thermal_annealing_temperature unique labels: 21\n",
      "Perovskite_deposition_thermal_annealing_time unique labels: 21\n",
      "Perovskite_deposition_solvent_annealing unique labels: 2\n",
      "HTL_stack_sequence unique labels: 21\n",
      "HTL_thickness_list unique labels: 70\n",
      "HTL_deposition_procedure unique labels: 5\n",
      "Backcontact_stack_sequence unique labels: 7\n",
      "Backcontact_thickness_list unique labels: 18\n",
      "Backcontact_deposition_procedure unique labels: 4\n"
     ]
    }
   ],
   "source": [
    "# Checking unique no. of labels on each column in filtered dataframe\n",
    "for col in feature_cols:\n",
    "    print(col+\" unique labels: \"+str(len(filtered_df[col].unique())))"
   ]
  },
  {
   "cell_type": "code",
   "execution_count": 13,
   "id": "169335c2",
   "metadata": {},
   "outputs": [],
   "source": [
    "# Selecting columns in the filtered data\n",
    "filtered_df = filtered_df[['Ref_DOI_number', 'Cell_architecture', 'Cell_flexible',\n",
    "       'Cell_semitransparent', 'Substrate_stack_sequence',\n",
    "       'ETL_stack_sequence', 'ETL_thickness', 'ETL_deposition_procedure',\n",
    "       'Perovskite_dimension_2D', 'Perovskite_dimension_2D3D_mixture',\n",
    "       'Perovskite_dimension_3D',\n",
    "       'Perovskite_dimension_3D_with_2D_capping_layer',\n",
    "       'Perovskite_composition_perovskite_ABC3_structure',\n",
    "       'Perovskite_composition_long_form',\n",
    "       'Perovskite_thickness',\n",
    "       'Perovskite_composition_inorganic', 'Perovskite_band_gap',\n",
    "       'Perovskite_band_gap_graded', 'Perovskite_deposition_procedure',\n",
    "       'Perovskite_deposition_solvents',\n",
    "       'Perovskite_deposition_quenching_induced_crystallisation',\n",
    "       'Perovskite_deposition_thermal_annealing_temperature',\n",
    "       'Perovskite_deposition_thermal_annealing_time',\n",
    "       'Perovskite_deposition_solvent_annealing', 'HTL_stack_sequence',\n",
    "       'HTL_thickness_list', 'HTL_deposition_procedure',\n",
    "       'Backcontact_stack_sequence', 'Backcontact_thickness_list',\n",
    "       'Backcontact_deposition_procedure', 'JV_default_Voc', 'JV_default_Jsc',\n",
    "       'JV_default_FF', 'JV_default_PCE']]"
   ]
  },
  {
   "cell_type": "code",
   "execution_count": 14,
   "id": "4eb08905",
   "metadata": {},
   "outputs": [
    {
     "data": {
      "text/plain": [
       "(259, 34)"
      ]
     },
     "execution_count": 14,
     "metadata": {},
     "output_type": "execute_result"
    }
   ],
   "source": [
    "filtered_df.shape"
   ]
  },
  {
   "cell_type": "code",
   "execution_count": 15,
   "id": "4615a8d0",
   "metadata": {},
   "outputs": [],
   "source": [
    "filtered_df.to_csv(pwd+\"/Sn_based/Sn_PCE_filtered.csv\",index=False) # Saving filtered data for Sn based"
   ]
  },
  {
   "cell_type": "code",
   "execution_count": 16,
   "id": "a073d48d",
   "metadata": {},
   "outputs": [
    {
     "data": {
      "text/plain": [
       "<Axes: xlabel='JV_default_PCE'>"
      ]
     },
     "execution_count": 16,
     "metadata": {},
     "output_type": "execute_result"
    },
    {
     "data": {
      "image/png": "[encoded data removed]",
      "text/plain": [
       "<Figure size 640x480 with 1 Axes>"
      ]
     },
     "metadata": {},
     "output_type": "display_data"
    }
   ],
   "source": [
    "sns.boxplot(x=filtered_df[\"JV_default_PCE\"]) # Boxplot for Sn based data"
   ]
  },
  {
   "cell_type": "markdown",
   "id": "a8589334",
   "metadata": {},
   "source": [
    "#### Outlier Removal"
   ]
  },
  {
   "cell_type": "code",
   "execution_count": 17,
   "id": "b30766ab",
   "metadata": {},
   "outputs": [],
   "source": [
    "def IQR(series):\n",
    "    \"\"\"Finds out the interquartile range of a pandas series\"\"\"\n",
    "    s = np.array(series)\n",
    "    Q25 = np.percentile(s, 25) # 25 percentile\n",
    "    Q75 = np.percentile(s, 75) # 75 percentile\n",
    "    iqr = Q75-Q25 # interquartile range\n",
    "    llim = Q25-(1.5*iqr) # Lower limit\n",
    "    ulim = Q75+(1.5*iqr) # Upper limit\n",
    "    return (llim, ulim)"
   ]
  },
  {
   "cell_type": "code",
   "execution_count": 18,
   "id": "33327276",
   "metadata": {},
   "outputs": [
    {
     "name": "stdout",
     "output_type": "stream",
     "text": [
      "Range: -1.7974999999999994 -- 12.4225\n"
     ]
    }
   ],
   "source": [
    "llim, ulim = IQR(filtered_df[\"JV_default_PCE\"]) # Find out the lower limit and upper limit\n",
    "print(f\"Range: {llim} -- {ulim}\")"
   ]
  },
  {
   "cell_type": "code",
   "execution_count": 19,
   "id": "5f7eaef7",
   "metadata": {},
   "outputs": [
    {
     "data": {
      "text/plain": [
       "(256, 34)"
      ]
     },
     "execution_count": 19,
     "metadata": {},
     "output_type": "execute_result"
    }
   ],
   "source": [
    "cleaned_df = filtered_df[filtered_df[\"JV_default_PCE\"]<=ulim] # Removing outliers\n",
    "cleaned_df.shape"
   ]
  },
  {
   "cell_type": "code",
   "execution_count": 20,
   "id": "7caeef5f",
   "metadata": {},
   "outputs": [
    {
     "data": {
      "text/plain": [
       "0"
      ]
     },
     "execution_count": 20,
     "metadata": {},
     "output_type": "execute_result"
    }
   ],
   "source": [
    "cleaned_df.duplicated().sum() # Check for duplicated values"
   ]
  },
  {
   "cell_type": "code",
   "execution_count": 21,
   "id": "f532c1b5",
   "metadata": {},
   "outputs": [],
   "source": [
    "cleaned_df.to_csv(pwd+\"/Sn_based/Sn_cleaned.csv\", index=False) # Saving cleaned dataset for Sn-based perovskites"
   ]
  },
  {
   "cell_type": "code",
   "execution_count": 22,
   "id": "6312f580",
   "metadata": {},
   "outputs": [
    {
     "data": {
      "text/plain": [
       "<seaborn.axisgrid.FacetGrid at 0x179cad96740>"
      ]
     },
     "execution_count": 22,
     "metadata": {},
     "output_type": "execute_result"
    },
    {
     "data": {
      "image/png": "[encoded data removed]",
      "text/plain": [
       "<Figure size 500x500 with 1 Axes>"
      ]
     },
     "metadata": {},
     "output_type": "display_data"
    }
   ],
   "source": [
    "sns.displot(cleaned_df, x=\"JV_default_PCE\") # distribution plot of PCE"
   ]
  },
  {
   "cell_type": "code",
   "execution_count": 23,
   "id": "b1abcdfa",
   "metadata": {},
   "outputs": [
    {
     "data": {
      "text/plain": [
       "count    256.000000\n",
       "mean       5.284688\n",
       "std        2.389818\n",
       "min        0.000000\n",
       "25%        3.445000\n",
       "50%        5.505000\n",
       "75%        7.055000\n",
       "max       12.240000\n",
       "Name: JV_default_PCE, dtype: float64"
      ]
     },
     "execution_count": 23,
     "metadata": {},
     "output_type": "execute_result"
    }
   ],
   "source": [
    "cleaned_df[\"JV_default_PCE\"].describe() # Describe the dataframe"
   ]
  }
 ],
 "metadata": {
  "kernelspec": {
   "display_name": "Python 3 (ipykernel)",
   "language": "python",
   "name": "python3"
  },
  "language_info": {
   "codemirror_mode": {
    "name": "ipython",
    "version": 3
   },
   "file_extension": ".py",
   "mimetype": "text/x-python",
   "name": "python",
   "nbconvert_exporter": "python",
   "pygments_lexer": "ipython3",
   "version": "3.10.12"
  }
 },
 "nbformat": 4,
 "nbformat_minor": 5
}
